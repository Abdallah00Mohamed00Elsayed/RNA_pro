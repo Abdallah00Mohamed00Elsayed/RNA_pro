{
 "cells": [
  {
   "cell_type": "code",
   "execution_count": null,
   "id": "28ba2e6d-9532-4a8f-a9ea-8f4433975932",
   "metadata": {},
   "outputs": [],
   "source": []
  }
 ],
 "metadata": {
  "kernelspec": {
   "display_name": "",
   "name": ""
  },
  "language_info": {
   "name": ""
  }
 },
 "nbformat": 4,
 "nbformat_minor": 5
}
